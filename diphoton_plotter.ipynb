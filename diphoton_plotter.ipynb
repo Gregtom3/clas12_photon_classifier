{
 "cells": [
  {
   "cell_type": "code",
   "execution_count": 164,
   "id": "independent-wales",
   "metadata": {},
   "outputs": [],
   "source": [
    "import ROOT\n",
    "import copy"
   ]
  },
  {
   "cell_type": "code",
   "execution_count": 165,
   "id": "agreed-payday",
   "metadata": {},
   "outputs": [],
   "source": [
    "input_file = \"outroot/nSidis_005032.root\"\n",
    "tfile = ROOT.TFile(input_file)\n",
    "tree = tfile.Get(\"diphoton\")"
   ]
  },
  {
   "cell_type": "code",
   "execution_count": 166,
   "id": "advance-linux",
   "metadata": {},
   "outputs": [],
   "source": [
    "def get_fit_counts_purity(hist):\n",
    "    fit = ROOT.TF1(\"fit\",\"gaus(0)+pol2(3)\",0.08,0.23)\n",
    "    HIST = copy.deepcopy(hist)\n",
    "    scale=HIST.GetEntries()\n",
    "    HIST.Scale(1/HIST.GetEntries())\n",
    "    fit.SetParameters(0.5,0.135,0.002,1,1,1)\n",
    "    fit.SetParLimits(0,0.01,1)\n",
    "    fit.SetParLimits(1,0.129,0.14)\n",
    "    fit.SetParLimits(2,0.005,0.02)\n",
    "    HIST.Fit(fit,\"NR0\")\n",
    "    \n",
    "    # Get the parameters of the Gaussian component\n",
    "    mean = fit.GetParameter(1)\n",
    "    sigma = fit.GetParameter(2)\n",
    "    amplitude = fit.GetParameter(0)\n",
    "    \n",
    "    # Create a TF1 object for the Gaussian component\n",
    "    xmin,xmax=0.106,0.164\n",
    "    gaus_func = ROOT.TF1(\"gaus_func\", \"gaus\", xmin,xmax)\n",
    "    gaus_func.SetParameters(amplitude, mean, sigma)\n",
    "\n",
    "    # Get the parameters of the polynomial component\n",
    "    pol2_params = [fit.GetParameter(i) for i in range(3, 6)]\n",
    "\n",
    "    # Create a TF1 object for the polynomial component\n",
    "    pol2_func = ROOT.TF1(\"pol2_func\", \"pol2\", xmin,xmax)\n",
    "    [pol2_func.SetParameter(i,pol2_params[i]) for i in range(len(pol2_params))]\n",
    "    \n",
    "    gaus_int = gaus_func.Integral(mean-2*sigma,mean+2*sigma)\n",
    "    pol_int = pol2_func.Integral(mean-2*sigma,mean+2*sigma)\n",
    "\n",
    "    purity = (gaus_int)/(gaus_int+pol_int)\n",
    "    \n",
    "    # Get the bin numbers corresponding to purity edges\n",
    "    bin_low = hist.FindBin(mean-2*sigma)\n",
    "    bin_high = hist.FindBin(mean+2*sigma)\n",
    "    # Calculate the integral of the histogram between these bins\n",
    "    integral = hist.Integral(bin_low, bin_high)\n",
    "    # Rescale fit params\n",
    "    \n",
    "    for ipar in [0,3,4,5]:\n",
    "        fit.SetParameter(ipar,fit.GetParameter(ipar)*scale)\n",
    "    fit.SetNpx(1000000)\n",
    "    if(purity<0.01): # Return -1 because the fit may have failed\n",
    "        return -1,-1,-1\n",
    "    else:\n",
    "        return copy.deepcopy(fit),purity*integral,purity"
   ]
  },
  {
   "cell_type": "code",
   "execution_count": 167,
   "id": "baking-ticket",
   "metadata": {},
   "outputs": [
    {
     "name": "stdout",
     "output_type": "stream",
     "text": [
      "Purity (mean +/- 2*sigma)\n",
      "  No cuts --> 0.47489311867705325\n",
      "  Egamma>0.6 --> 0.78163616914757\n",
      "  Classifier p>0.9 cuts --> 0.7337605976402233\n",
      " FCN=63.0594 FROM MIGRAD    STATUS=CONVERGED     845 CALLS         846 TOTAL\n",
      "                     EDM=1.58171e-09    STRATEGY= 1  ERROR MATRIX UNCERTAINTY   2.0 per cent\n",
      "  EXT PARAMETER                                   STEP         FIRST   \n",
      "  NO.   NAME      VALUE            ERROR          SIZE      DERIVATIVE \n",
      "   1  p0           1.09780e-02   1.23136e-04   5.42584e-07   7.71538e-03\n",
      "   2  p1           1.33959e-01   1.61285e-04   1.63674e-05   9.37324e-04\n",
      "   3  p2           1.45668e-02   2.03788e-04  -3.28681e-05   1.94761e-03\n",
      "   4  p3           1.51261e-03   4.14719e-04   6.13940e-09  -5.61945e-01\n",
      "   5  p4           8.18864e-02   6.19988e-03   6.15208e-07  -1.20531e-01\n",
      "   6  p5          -2.86444e-01   2.05261e-02  -3.05862e-06  -2.55663e-02\n",
      " FCN=50.0556 FROM MIGRAD    STATUS=CONVERGED     444 CALLS         445 TOTAL\n",
      "                     EDM=1.76316e-07    STRATEGY= 1      ERROR MATRIX ACCURATE \n",
      "  EXT PARAMETER                                   STEP         FIRST   \n",
      "  NO.   NAME      VALUE            ERROR          SIZE      DERIVATIVE \n",
      "   1  p0           2.28214e-02   3.56813e-04   8.64534e-06   6.49326e-02\n",
      "   2  p1           1.34201e-01   1.65072e-04   1.01951e-04   6.11504e-03\n",
      "   3  p2           1.14986e-02   1.75905e-04   5.36348e-05  -2.68752e-02\n",
      "   4  p3           1.62212e-03   6.82701e-04   1.71605e-07  -7.21464e+00\n",
      "   5  p4           3.02300e-02   1.00160e-02   1.00219e-06  -1.35587e+00\n",
      "   6  p5          -1.02579e-01   3.29687e-02   5.21720e-06  -2.58842e-01\n",
      " FCN=129.496 FROM MIGRAD    STATUS=CONVERGED     390 CALLS         391 TOTAL\n",
      "                     EDM=5.77279e-10    STRATEGY= 1      ERROR MATRIX ACCURATE \n",
      "  EXT PARAMETER                                   STEP         FIRST   \n",
      "  NO.   NAME      VALUE            ERROR          SIZE      DERIVATIVE \n",
      "   1  p0           3.56182e-02   3.49007e-04   9.34318e-06   2.23432e-03\n",
      "   2  p1           1.34070e-01   1.30855e-04   1.25464e-04   4.31459e-04\n",
      "   3  p2           1.43936e-02   1.56866e-04   6.91708e-05   1.46571e-03\n",
      "   4  p3          -8.68470e-03   8.13227e-04   3.09266e-07  -1.71213e-01\n",
      "   5  p4           2.19005e-01   1.24445e-02   1.78842e-06  -3.26054e-02\n",
      "   6  p5          -7.09385e-01   4.13748e-02   9.15292e-06  -6.81622e-03\n"
     ]
    },
    {
     "name": "stderr",
     "output_type": "stream",
     "text": [
      "Warning in <TCanvas::Constructor>: Deleting canvas with same name: c\n",
      "Info in <ROOT::Math::ParameterSettings>: lower/upper bounds outside current parameter value. The value will be set to (low+up)/2 \n",
      "Info in <ROOT::Math::ParameterSettings>: lower/upper bounds outside current parameter value. The value will be set to (low+up)/2 \n",
      "Info in <ROOT::Math::ParameterSettings>: lower/upper bounds outside current parameter value. The value will be set to (low+up)/2 \n"
     ]
    },
    {
     "data": {
      "image/png": "[encoded data removed]",
      "text/plain": [
       "<IPython.core.display.Image object>"
      ]
     },
     "metadata": {},
     "output_type": "display_data"
    }
   ],
   "source": [
    "canvas = ROOT.TCanvas(\"c\",\"c\",600,600)\n",
    "p_thresh = 0.9\n",
    "\n",
    "title = input_file.split(\"/\")[-1].replace(\".root\",\"\")\n",
    "hist_min,hist_max=0,0.35\n",
    "h1 = ROOT.TH1F(\"h1\",title+\";Diphoton Mass [GeV];Counts\",100,hist_min,hist_max)\n",
    "h2 = ROOT.TH1F(\"h2\",title+\";Diphoton Mass [GeV];Counts\",100,hist_min,hist_max)\n",
    "h3 = ROOT.TH1F(\"h3\",title+\";Diphoton Mass [GeV];Counts\",100,hist_min,hist_max)\n",
    "\n",
    "h1.SetLineColor(1); h2.SetLineColor(2); h3.SetLineColor(9);\n",
    "h1.SetLineWidth(3); h2.SetLineWidth(3); h3.SetLineWidth(3);\n",
    "\n",
    "tree.Draw(\"M_gg>>h1\",\"\",\"hist\")\n",
    "tree.Draw(\"M_gg>>h2\",\"E_gamma_1>0.6 && E_gamma_2>0.6\",\"hist same\")\n",
    "tree.Draw(\"M_gg>>h3\",\"p_gamma_1>{}&&p_gamma_2>{}\".format(p_thresh,p_thresh),\"hist same\")\n",
    "\n",
    "h1.GetYaxis().SetRangeUser(0,h1.GetMaximum()*1.1)\n",
    "ROOT.gStyle.SetOptStat(0)\n",
    "legend=ROOT.TLegend(0.25,0.7,0.88,0.88)\n",
    "f1,N1,u1=get_fit_counts_purity(h1); f1.SetLineColor(8); f1.SetLineStyle(9);\n",
    "f2,N2,u2=get_fit_counts_purity(h2); f2.SetLineColor(8); f2.SetLineStyle(9);\n",
    "f3,N3,u3=get_fit_counts_purity(h3); f3.SetLineColor(8); f3.SetLineStyle(9);\n",
    "\n",
    "f1.Draw(\"l same\")\n",
    "f2.Draw(\"l same\")\n",
    "f3.Draw(\"l same\")\n",
    "\n",
    "legend.AddEntry(h1,\"No cuts : {:.2e} #pi0 events\".format(int(N1)),\"l\")\n",
    "legend.AddEntry(h2,\"Egamma>0.6 cuts : {:.2e} #pi0 events\".format(int(N2)),\"l\")\n",
    "legend.AddEntry(h3,\"Classifier p>{} cuts : {:.2e} #pi0 events\".format(p_thresh,int(N3)),\"l\")\n",
    "legend.Draw()\n",
    "canvas.Draw()\n",
    "\n",
    "print(\"Purity (mean +/- 2*sigma)\")\n",
    "print(\"  No cuts -->\",u1)\n",
    "print(\"  Egamma>0.6 -->\",u2)\n",
    "print(\"  Classifier p>{} cuts -->\".format(p_thresh),u3)"
   ]
  },
  {
   "cell_type": "code",
   "execution_count": null,
   "id": "norwegian-township",
   "metadata": {},
   "outputs": [],
   "source": []
  },
  {
   "cell_type": "code",
   "execution_count": null,
   "id": "coordinate-portsmouth",
   "metadata": {},
   "outputs": [],
   "source": []
  }
 ],
 "metadata": {
  "kernelspec": {
   "display_name": "Python 3",
   "language": "python",
   "name": "python3"
  },
  "language_info": {
   "codemirror_mode": {
    "name": "ipython",
    "version": 3
   },
   "file_extension": ".py",
   "mimetype": "text/x-python",
   "name": "python",
   "nbconvert_exporter": "python",
   "pygments_lexer": "ipython3",
   "version": "3.8.6"
  }
 },
 "nbformat": 4,
 "nbformat_minor": 5
}
